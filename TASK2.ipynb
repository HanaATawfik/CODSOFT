{
  "nbformat": 4,
  "nbformat_minor": 0,
  "metadata": {
    "colab": {
      "provenance": [],
      "authorship_tag": "ABX9TyPwU2hFIrZDG0vAsnlgRZgY",
      "include_colab_link": true
    },
    "kernelspec": {
      "name": "python3",
      "display_name": "Python 3"
    },
    "language_info": {
      "name": "python"
    }
  },
  "cells": [
    {
      "cell_type": "markdown",
      "metadata": {
        "id": "view-in-github",
        "colab_type": "text"
      },
      "source": [
        "<a href=\"https://colab.research.google.com/github/HanaATawfik/CODSOFT/blob/main/TASK2.ipynb\" target=\"_parent\"><img src=\"https://colab.research.google.com/assets/colab-badge.svg\" alt=\"Open In Colab\"/></a>"
      ]
    },
    {
      "cell_type": "code",
      "source": [
        "#libraries"
      ],
      "metadata": {
        "id": "pO6_aas04RGS"
      },
      "execution_count": 33,
      "outputs": []
    },
    {
      "cell_type": "code",
      "execution_count": 34,
      "metadata": {
        "colab": {
          "base_uri": "https://localhost:8080/"
        },
        "id": "6Z6UEasLruJo",
        "outputId": "2b4a67bd-9c9b-47ac-95e1-529e94196357"
      },
      "outputs": [
        {
          "output_type": "stream",
          "name": "stderr",
          "text": [
            "[nltk_data] Downloading package punkt to /root/nltk_data...\n",
            "[nltk_data]   Package punkt is already up-to-date!\n"
          ]
        },
        {
          "output_type": "stream",
          "name": "stdout",
          "text": [
            "Requirement already satisfied: nltk in /usr/local/lib/python3.10/dist-packages (3.8.1)\n",
            "Requirement already satisfied: click in /usr/local/lib/python3.10/dist-packages (from nltk) (8.1.7)\n",
            "Requirement already satisfied: joblib in /usr/local/lib/python3.10/dist-packages (from nltk) (1.3.2)\n",
            "Requirement already satisfied: regex>=2021.8.3 in /usr/local/lib/python3.10/dist-packages (from nltk) (2023.6.3)\n",
            "Requirement already satisfied: tqdm in /usr/local/lib/python3.10/dist-packages (from nltk) (4.66.1)\n"
          ]
        }
      ],
      "source": [
        "import nltk\n",
        "nltk.download('punkt')\n",
        "import requests\n",
        "!pip install nltk\n",
        "import math"
      ]
    },
    {
      "cell_type": "code",
      "source": [
        "# Function to display the current state of the Tic-Tac-Toe board"
      ],
      "metadata": {
        "id": "akyWg77XO4Yb"
      },
      "execution_count": 35,
      "outputs": []
    },
    {
      "cell_type": "code",
      "source": [
        "def display_board(board):\n",
        "    print(\"Current State Of Board : \\n\\n\");\n",
        "    for i in range (0,9):\n",
        "        if i>0 and i%3==0:\n",
        "            print(\"\\n\");\n",
        "        if board[i]==0:\n",
        "            print(\"- \",end=\" \");\n",
        "        if board[i]==1:\n",
        "            print(\"O \",end=\" \");\n",
        "        if board[i]==-1:\n",
        "            print(\"X \",end=\" \");\n",
        "    print(\"\\n\\n\");"
      ],
      "metadata": {
        "id": "zkEEgxNu9toW"
      },
      "execution_count": 36,
      "outputs": []
    },
    {
      "cell_type": "code",
      "source": [
        "# Function for the human player's turn"
      ],
      "metadata": {
        "id": "xjFXsif-PO7k"
      },
      "execution_count": 37,
      "outputs": []
    },
    {
      "cell_type": "code",
      "source": [
        "def user_turn(player,board):\n",
        "   while True:\n",
        "        pos = input(f\"Enter {player}'s position from [1...9]: \")\n",
        "        pos = int(pos)\n",
        "        if 1 <= pos <= 9 and board[pos - 1] == 0:\n",
        "            board[pos - 1] = -1 if player == 'X' else 1\n",
        "            break\n",
        "        else:\n",
        "            print(\"Invalid move! Try again.\")"
      ],
      "metadata": {
        "id": "tbs-2Z1v9mJt"
      },
      "execution_count": 38,
      "outputs": []
    },
    {
      "cell_type": "code",
      "source": [
        "# AI player's turn"
      ],
      "metadata": {
        "id": "Bmzu5RfuQeO4"
      },
      "execution_count": 39,
      "outputs": []
    },
    {
      "cell_type": "code",
      "source": [
        "def comp_turn(board):\n",
        "    best_move = -1\n",
        "    best_score = -math.inf\n",
        "    for i in range(9):\n",
        "        if board[i] == 0:\n",
        "            board[i] = 1\n",
        "            score = minimax(board, 0, False, -math.inf, math.inf)\n",
        "            board[i] = 0\n",
        "            if score > best_score:\n",
        "                best_score = score\n",
        "                best_move = i\n",
        "    board[best_move] = 1"
      ],
      "metadata": {
        "id": "rpxWwl9h9WkK"
      },
      "execution_count": 40,
      "outputs": []
    },
    {
      "cell_type": "code",
      "source": [
        "# Minimax algorithm with alpha-beta pruning"
      ],
      "metadata": {
        "id": "-DjqqdEv9TL9"
      },
      "execution_count": 41,
      "outputs": []
    },
    {
      "cell_type": "code",
      "source": [
        "def minimax(board, depth, maximizing_player, alpha, beta):\n",
        "    scores = {\n",
        "        -1: -1,\n",
        "        0: 0,\n",
        "        1: 1\n",
        "    }\n",
        "\n",
        "    result = evaluate_board(board)\n",
        "    if result != 0:\n",
        "        return scores[result]\n",
        "\n",
        "    if maximizing_player:\n",
        "        max_eval = -math.inf\n",
        "        for i in range(9):\n",
        "            if board[i] == 0:\n",
        "                board[i] = 1\n",
        "                eval = minimax(board, depth + 1, False, alpha, beta)\n",
        "                board[i] = 0\n",
        "                max_eval = max(max_eval, eval)\n",
        "                alpha = max(alpha, eval)\n",
        "                if beta <= alpha:\n",
        "                    break\n",
        "        return max_eval\n",
        "    else:\n",
        "        min_eval = math.inf\n",
        "        for i in range(9):\n",
        "            if board[i] == 0:\n",
        "                board[i] = -1\n",
        "                eval = minimax(board, depth + 1, True, alpha, beta)\n",
        "                board[i] = 0\n",
        "                min_eval = min(min_eval, eval)\n",
        "                beta = min(beta, eval)\n",
        "                if beta <= alpha:\n",
        "                    break\n",
        "        return min_eval"
      ],
      "metadata": {
        "id": "LCMRLlKg9Oem"
      },
      "execution_count": 42,
      "outputs": []
    },
    {
      "cell_type": "code",
      "source": [
        "#moving using Minimax Algorithm"
      ],
      "metadata": {
        "id": "s3EKJxIn9FuM"
      },
      "execution_count": 43,
      "outputs": []
    },
    {
      "cell_type": "code",
      "source": [
        "def CompTurn(board):\n",
        "    pos=-1;\n",
        "    value=-2;\n",
        "    for i in range(0,9):\n",
        "        if(board[i]==0):\n",
        "            board[i]=1;\n",
        "            score=-minimax(board, -1);\n",
        "            board[i]=0;\n",
        "            if(score>value):\n",
        "                value=score;\n",
        "                pos=i;\n",
        "\n",
        "    board[pos]=1;"
      ],
      "metadata": {
        "id": "sSQe-VCE9ARj"
      },
      "execution_count": 44,
      "outputs": []
    },
    {
      "cell_type": "code",
      "source": [
        "# Function to evaluate the current state of the board for a win or draw"
      ],
      "metadata": {
        "id": "FT_o3X-w8TNI"
      },
      "execution_count": 45,
      "outputs": []
    },
    {
      "cell_type": "code",
      "source": [
        "def evaluate_board(board):\n",
        "    winning_combinations=[[0,1,2],[3,4,5],[6,7,8],[0,3,6],[1,4,7],[2,5,8],[0,4,8],[2,4,6]];\n",
        "\n",
        "    for combo in winning_combinations:\n",
        "        a, b, c = combo\n",
        "        if board[a] == board[b] == board[c] and board[a] != 0:\n",
        "            return board[a]\n",
        "    return 0"
      ],
      "metadata": {
        "id": "977lTCNa8MZW"
      },
      "execution_count": 46,
      "outputs": []
    },
    {
      "cell_type": "code",
      "source": [
        "# Main game loop"
      ],
      "metadata": {
        "id": "XBC4aZi14OuG"
      },
      "execution_count": 47,
      "outputs": []
    },
    {
      "cell_type": "code",
      "source": [
        "def main():\n",
        "    board = [0] * 9\n",
        "    print(\"AI BOT : O Vs. You : X\")\n",
        "    for i in range(9):\n",
        "        display_board(board)\n",
        "        if evaluate_board(board) != 0:\n",
        "            break\n",
        "        if i % 2 == 0:\n",
        "            comp_turn(board)\n",
        "        else:\n",
        "            #display_board(board)\n",
        "            user_turn('X', board)\n",
        "\n",
        "    result = evaluate_board(board)\n",
        "    #display_board(board)\n",
        "    if result == 0:\n",
        "        print(\"Draw!\")\n",
        "    elif result == -1:\n",
        "        print(\"Congratulations! You win!\")\n",
        "    else:\n",
        "        print(\"AI BOT wins!\")\n",
        "\n",
        "if __name__ == \"__main__\":\n",
        "    main()"
      ],
      "metadata": {
        "colab": {
          "base_uri": "https://localhost:8080/"
        },
        "id": "OhPeruJZ0JwE",
        "outputId": "c0c53848-74aa-4bcb-aa65-f2f68d5bfae9"
      },
      "execution_count": 48,
      "outputs": [
        {
          "output_type": "stream",
          "name": "stdout",
          "text": [
            "AI BOT : O Vs. You : X\n",
            "Current State Of Board : \n",
            "\n",
            "\n",
            "-  -  -  \n",
            "\n",
            "-  -  -  \n",
            "\n",
            "-  -  -  \n",
            "\n",
            "\n",
            "Current State Of Board : \n",
            "\n",
            "\n",
            "O  -  -  \n",
            "\n",
            "-  -  -  \n",
            "\n",
            "-  -  -  \n",
            "\n",
            "\n",
            "Enter X's position from [1...9]: 2\n",
            "Current State Of Board : \n",
            "\n",
            "\n",
            "O  X  -  \n",
            "\n",
            "-  -  -  \n",
            "\n",
            "-  -  -  \n",
            "\n",
            "\n",
            "Current State Of Board : \n",
            "\n",
            "\n",
            "O  X  O  \n",
            "\n",
            "-  -  -  \n",
            "\n",
            "-  -  -  \n",
            "\n",
            "\n",
            "Enter X's position from [1...9]: 3\n",
            "Invalid move! Try again.\n",
            "Enter X's position from [1...9]: 7\n",
            "Current State Of Board : \n",
            "\n",
            "\n",
            "O  X  O  \n",
            "\n",
            "-  -  -  \n",
            "\n",
            "X  -  -  \n",
            "\n",
            "\n",
            "Current State Of Board : \n",
            "\n",
            "\n",
            "O  X  O  \n",
            "\n",
            "-  O  -  \n",
            "\n",
            "X  -  -  \n",
            "\n",
            "\n",
            "Enter X's position from [1...9]: 9\n",
            "Current State Of Board : \n",
            "\n",
            "\n",
            "O  X  O  \n",
            "\n",
            "-  O  -  \n",
            "\n",
            "X  -  X  \n",
            "\n",
            "\n",
            "Current State Of Board : \n",
            "\n",
            "\n",
            "O  X  O  \n",
            "\n",
            "-  O  -  \n",
            "\n",
            "X  O  X  \n",
            "\n",
            "\n",
            "Enter X's position from [1...9]: 5\n",
            "Invalid move! Try again.\n",
            "Enter X's position from [1...9]: 4\n",
            "Current State Of Board : \n",
            "\n",
            "\n",
            "O  X  O  \n",
            "\n",
            "X  O  -  \n",
            "\n",
            "X  O  X  \n",
            "\n",
            "\n",
            "Draw!\n"
          ]
        }
      ]
    }
  ]
}