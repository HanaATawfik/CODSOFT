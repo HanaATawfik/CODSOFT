{
  "nbformat": 4,
  "nbformat_minor": 0,
  "metadata": {
    "colab": {
      "provenance": [],
      "authorship_tag": "ABX9TyPaujqcCrS0qrn2HWXyF5X2",
      "include_colab_link": true
    },
    "kernelspec": {
      "name": "python3",
      "display_name": "Python 3"
    },
    "language_info": {
      "name": "python"
    }
  },
  "cells": [
    {
      "cell_type": "markdown",
      "metadata": {
        "id": "view-in-github",
        "colab_type": "text"
      },
      "source": [
        "<a href=\"https://colab.research.google.com/github/HanaATawfik/CODSOFT/blob/main/TASK1.ipynb\" target=\"_parent\"><img src=\"https://colab.research.google.com/assets/colab-badge.svg\" alt=\"Open In Colab\"/></a>"
      ]
    },
    {
      "cell_type": "code",
      "source": [
        "import nltk\n",
        "nltk.download('punkt')\n",
        "import requests"
      ],
      "metadata": {
        "colab": {
          "base_uri": "https://localhost:8080/"
        },
        "id": "STfVJKNRmCYS",
        "outputId": "f252d4c2-bb6f-4452-a515-03df9d17bd96"
      },
      "execution_count": 1,
      "outputs": [
        {
          "output_type": "stream",
          "name": "stderr",
          "text": [
            "[nltk_data] Downloading package punkt to /root/nltk_data...\n",
            "[nltk_data]   Unzipping tokenizers/punkt.zip.\n"
          ]
        }
      ]
    },
    {
      "cell_type": "markdown",
      "source": [
        "Installing NLTK library"
      ],
      "metadata": {
        "id": "FqmW8xSqGz13"
      }
    },
    {
      "cell_type": "code",
      "execution_count": 2,
      "metadata": {
        "colab": {
          "base_uri": "https://localhost:8080/"
        },
        "id": "ctG83uZMGWIm",
        "outputId": "d954c134-5eb0-45b2-a470-56c270b1e97a"
      },
      "outputs": [
        {
          "output_type": "stream",
          "name": "stdout",
          "text": [
            "Requirement already satisfied: nltk in /usr/local/lib/python3.10/dist-packages (3.8.1)\n",
            "Requirement already satisfied: click in /usr/local/lib/python3.10/dist-packages (from nltk) (8.1.7)\n",
            "Requirement already satisfied: joblib in /usr/local/lib/python3.10/dist-packages (from nltk) (1.3.2)\n",
            "Requirement already satisfied: regex>=2021.8.3 in /usr/local/lib/python3.10/dist-packages (from nltk) (2023.6.3)\n",
            "Requirement already satisfied: tqdm in /usr/local/lib/python3.10/dist-packages (from nltk) (4.66.1)\n"
          ]
        }
      ],
      "source": [
        "!pip install nltk"
      ]
    },
    {
      "cell_type": "markdown",
      "source": [
        "Text Tokenization"
      ],
      "metadata": {
        "id": "fmHeWgRWXO6u"
      }
    },
    {
      "cell_type": "code",
      "source": [
        "from nltk.tokenize import word_tokenize"
      ],
      "metadata": {
        "id": "GZOUeaBBW-tw"
      },
      "execution_count": 3,
      "outputs": []
    },
    {
      "cell_type": "code",
      "source": [
        "#This program is a designated chat-bot with rule based responses"
      ],
      "metadata": {
        "id": "J_uWkmEWRvsu"
      },
      "execution_count": 6,
      "outputs": []
    },
    {
      "cell_type": "code",
      "source": [
        "api_endpoint = \"http://api.openweathermap.org/data/2.5/weather\"\n",
        "api_key = \"b3d8c75c6a0342f3007bd6735614a55b\""
      ],
      "metadata": {
        "id": "wYtcxcmUnAx0"
      },
      "execution_count": 7,
      "outputs": []
    },
    {
      "cell_type": "markdown",
      "source": [
        "Function with the expected input and output (responses)"
      ],
      "metadata": {
        "id": "ABcrJr0maS7g"
      }
    },
    {
      "cell_type": "code",
      "source": [
        "answers = {\n",
        "    \"hello\":\"hi there! how can i help you today?\",\n",
        "    \"how are you?\":\"Im good, how about you?\",\n",
        "    \" I need help with this assignment\": \" sure, give me a clear query and i will work on it\"\n",
        "    }"
      ],
      "metadata": {
        "id": "zXHxqo8FTsM8"
      },
      "execution_count": 8,
      "outputs": []
    },
    {
      "cell_type": "code",
      "source": [
        "def get_weather(city):\n",
        "    params = {\n",
        "        \"q\": city,\n",
        "        \"appid\": api_key,\n",
        "        \"units\": \"metric\"  # You can change this to \"imperial\" for Fahrenheit\n",
        "    }\n",
        "    response = requests.get(api_endpoint, params=params)\n",
        "    data = response.json()\n",
        "\n",
        "    if response.status_code == 200:\n",
        "        main = data['main']\n",
        "        temperature = main['temp']\n",
        "        description = data['weather'][0]['description']\n",
        "        return f\"The weather in {city} is {description} with a temperature of {temperature}°C.\"\n",
        "    else:\n",
        "        return \"Sorry, I couldn't retrieve the weather information at the moment.\""
      ],
      "metadata": {
        "id": "swFJxJZSo8Nx"
      },
      "execution_count": 9,
      "outputs": []
    },
    {
      "cell_type": "markdown",
      "source": [
        "Function to take user input, tokenize it and match it with predefined queries"
      ],
      "metadata": {
        "id": "xWcXUXQebFmI"
      }
    },
    {
      "cell_type": "code",
      "source": [
        "def chatbot_response (user_input):\n",
        " # tokens= word_tokenize(user_input)\n",
        " # for word in tokens:\n",
        "    if  user_input.lower()in answers :\n",
        "      return answers[user_input]\n",
        "    if \"weather\" in user_input:\n",
        "      city= input (\"Which city's weather would you like to know?\")\n",
        "      weather_response = get_weather(city)\n",
        "      return weather_response\n",
        "    return \"I'm sorry, I didn't get that.\""
      ],
      "metadata": {
        "id": "RkFtk5txwzyw"
      },
      "execution_count": 10,
      "outputs": []
    },
    {
      "cell_type": "code",
      "source": [
        "while True:\n",
        "    user_input = input(\"You: \")\n",
        "    if user_input.lower() == \"exit\":\n",
        "        break\n",
        "    response = chatbot_response(user_input)\n",
        "    print(\"Bot:\", response)\n"
      ],
      "metadata": {
        "id": "fhpooyWTdodb"
      },
      "execution_count": null,
      "outputs": []
    }
  ]
}
