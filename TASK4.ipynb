{
  "nbformat": 4,
  "nbformat_minor": 0,
  "metadata": {
    "colab": {
      "provenance": [],
      "authorship_tag": "ABX9TyMKCJQHBJwylg7YE2BMVXTo",
      "include_colab_link": true
    },
    "kernelspec": {
      "name": "python3",
      "display_name": "Python 3"
    },
    "language_info": {
      "name": "python"
    }
  },
  "cells": [
    {
      "cell_type": "markdown",
      "metadata": {
        "id": "view-in-github",
        "colab_type": "text"
      },
      "source": [
        "<a href=\"https://colab.research.google.com/github/HanaATawfik/CODSOFT/blob/main/TASK4.ipynb\" target=\"_parent\"><img src=\"https://colab.research.google.com/assets/colab-badge.svg\" alt=\"Open In Colab\"/></a>"
      ]
    },
    {
      "cell_type": "code",
      "source": [
        "#Important libraries (Pandas for data manipulation)"
      ],
      "metadata": {
        "id": "bDZ9uHBstroI"
      },
      "execution_count": 145,
      "outputs": []
    },
    {
      "cell_type": "code",
      "execution_count": 146,
      "metadata": {
        "id": "SeNUOwOftNYF"
      },
      "outputs": [],
      "source": [
        "import pandas as pd\n",
        "from sklearn.feature_extraction.text import TfidfVectorizer\n",
        "from sklearn.metrics.pairwise import linear_kernel\n",
        "from sklearn.metrics.pairwise import cosine_similarity"
      ]
    },
    {
      "cell_type": "code",
      "source": [
        "#Load and preprocess Dataset"
      ],
      "metadata": {
        "id": "lbbH0dT9t5MF"
      },
      "execution_count": 147,
      "outputs": []
    },
    {
      "cell_type": "code",
      "source": [
        "# Load the dataset\n",
        "dataset = pd.read_csv('dataset.csv')\n",
        "\n",
        "# Drop duplicates if any\n",
        "dataset.drop_duplicates(inplace=True)\n",
        "\n",
        "# One-hot encode categorical columns (genres, actors, director)\n",
        "# This will create binary columns for each category.\n",
        "# One-hot encode selected categorical columns\n",
        "dataset_encoded = pd.get_dummies(dataset, columns=['genres', 'actors', 'director'], drop_first=True)\n"
      ],
      "metadata": {
        "id": "q-qHbWgmtx1C"
      },
      "execution_count": 148,
      "outputs": []
    },
    {
      "cell_type": "code",
      "source": [
        "#Feature engineering"
      ],
      "metadata": {
        "id": "4_BfEaeb0F40"
      },
      "execution_count": 149,
      "outputs": []
    },
    {
      "cell_type": "code",
      "source": [
        "# Combine text data into a single column for TF-IDF vectorization\n",
        "#dataset['text_data'] = dataset['genres'] + ' ' + dataset['actors'] + ' ' + dataset['director']\n",
        "\n",
        "# Create a TF-IDF vectorizer for genres\n",
        "tfidf_vectorizer_genres = TfidfVectorizer(stop_words='english')\n",
        "\n",
        "# Fit and transform the genres data\n",
        "tfidf_matrix_genres = tfidf_vectorizer_genres.fit_transform(dataset['genres'])"
      ],
      "metadata": {
        "id": "qSP_HsClzR_z"
      },
      "execution_count": 150,
      "outputs": []
    },
    {
      "cell_type": "code",
      "source": [
        "# Calculate cosine similarity for genres"
      ],
      "metadata": {
        "id": "ldk1g_622aYG"
      },
      "execution_count": 151,
      "outputs": []
    },
    {
      "cell_type": "code",
      "source": [
        "cosine_sim_genres = linear_kernel(tfidf_matrix_genres, tfidf_matrix_genres)"
      ],
      "metadata": {
        "id": "oDdCDU411fEe"
      },
      "execution_count": 152,
      "outputs": []
    },
    {
      "cell_type": "code",
      "source": [
        "# Combine similarity scores"
      ],
      "metadata": {
        "id": "qJEjoWDC2jQm"
      },
      "execution_count": 153,
      "outputs": []
    },
    {
      "cell_type": "code",
      "source": [
        "cosine_sim_combined = linear_kernel(tfidf_matrix_genres, tfidf_matrix_genres)"
      ],
      "metadata": {
        "id": "UGxsGCr70JD1"
      },
      "execution_count": 154,
      "outputs": []
    },
    {
      "cell_type": "code",
      "source": [
        "#Function to get reccomendations"
      ],
      "metadata": {
        "id": "Z9x_03Qi4t__"
      },
      "execution_count": 155,
      "outputs": []
    },
    {
      "cell_type": "code",
      "source": [
        "def get_genre_recommendations(title, cosine_sim):\n",
        "    # Get the index of the movie that matches the title\n",
        "    idx = dataset.index[dataset['title'] == title].tolist()[0]\n",
        "\n",
        "    # Get the pairwise similarity scores of all movies with that movie\n",
        "    sim_scores = list(enumerate(cosine_sim[idx]))\n",
        "\n",
        "    # Sort the movies based on the similarity scores\n",
        "    sim_scores = sorted(sim_scores, key=lambda x: x[1], reverse=True)\n",
        "\n",
        "    # Get the top 3 most similar movies (excluding the input movie itself)\n",
        "    sim_scores = sim_scores[1:4]\n",
        "\n",
        "    # Get the movie indices\n",
        "    movie_indices = [i[0] for i in sim_scores]\n",
        "\n",
        "    # Return the top 3 recommended movies\n",
        "    return dataset['title'].iloc[movie_indices]"
      ],
      "metadata": {
        "id": "Kg5E9-6h3n1D"
      },
      "execution_count": 156,
      "outputs": []
    },
    {
      "cell_type": "code",
      "source": [
        "#Get the movie recommendations"
      ],
      "metadata": {
        "id": "tGgmwTYy4x0h"
      },
      "execution_count": 157,
      "outputs": []
    },
    {
      "cell_type": "code",
      "source": [
        "# Example: Get recommendations for a movie titled \"Inception\"\n",
        "recommended_genre_movies = get_genre_recommendations(\"Inception\", cosine_sim_genres)\n",
        "\n",
        "# Print the recommended movies\n",
        "print(recommended_genre_movies)"
      ],
      "metadata": {
        "colab": {
          "base_uri": "https://localhost:8080/"
        },
        "id": "J_Rm2HPL418W",
        "outputId": "bbdf738e-daca-4fc5-ef6a-79353aab74bc"
      },
      "execution_count": 158,
      "outputs": [
        {
          "output_type": "stream",
          "name": "stdout",
          "text": [
            "0         The Matrix\n",
            "5      Jurassic Park\n",
            "9    The Dark Knight\n",
            "Name: title, dtype: object\n"
          ]
        }
      ]
    }
  ]
}